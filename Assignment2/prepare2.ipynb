{
 "cells": [
  {
   "cell_type": "markdown",
   "id": "e1a192fa-28b8-4362-b713-e13c58bb5655",
   "metadata": {},
   "source": [
    " # 1. Initialize DVC and Track Raw Data"
   ]
  },
  {
   "cell_type": "code",
   "execution_count": 2,
   "id": "62941a1b-1a37-4f40-9852-c7b40b09f12b",
   "metadata": {},
   "outputs": [],
   "source": [
    "!mkdir -p Data"
   ]
  },
  {
   "cell_type": "code",
   "execution_count": 30,
   "id": "dd380545-c75f-4925-b5aa-48c34a388992",
   "metadata": {},
   "outputs": [
    {
     "name": "stdout",
     "output_type": "stream",
     "text": [
      "\u001b[33mhint: Using 'master' as the name for the initial branch. This default branch name\u001b[m\n",
      "\u001b[33mhint: is subject to change. To configure the initial branch name to use in all\u001b[m\n",
      "\u001b[33mhint: of your new repositories, which will suppress this warning, call:\u001b[m\n",
      "\u001b[33mhint: \u001b[m\n",
      "\u001b[33mhint: \tgit config --global init.defaultBranch <name>\u001b[m\n",
      "\u001b[33mhint: \u001b[m\n",
      "\u001b[33mhint: Names commonly chosen instead of 'master' are 'main', 'trunk' and\u001b[m\n",
      "\u001b[33mhint: 'development'. The just-created branch can be renamed via this command:\u001b[m\n",
      "\u001b[33mhint: \u001b[m\n",
      "\u001b[33mhint: \tgit branch -m <name>\u001b[m\n",
      "Initialized empty Git repository in /home/pritam/Downloads/pritamAML2/.git/\n",
      "Initialized DVC repository.\n",
      "\n",
      "You can now commit the changes to git.\n",
      "\n",
      "\u001b[31m+---------------------------------------------------------------------+\n",
      "\u001b[0m\u001b[31m|\u001b[0m                                                                     \u001b[31m|\u001b[0m\n",
      "\u001b[31m|\u001b[0m        DVC has enabled anonymous aggregate usage analytics.         \u001b[31m|\u001b[0m\n",
      "\u001b[31m|\u001b[0m     Read the analytics documentation (and how to opt-out) here:     \u001b[31m|\u001b[0m\n",
      "\u001b[31m|\u001b[0m             <\u001b[36mhttps://dvc.org/doc/user-guide/analytics\u001b[39m>              \u001b[31m|\u001b[0m\n",
      "\u001b[31m|\u001b[0m                                                                     \u001b[31m|\u001b[0m\n",
      "\u001b[31m+---------------------------------------------------------------------+\n",
      "\u001b[0m\n",
      "\u001b[33mWhat's next?\u001b[39m\n",
      "\u001b[33m------------\u001b[39m\n",
      "- Check out the documentation: <\u001b[36mhttps://dvc.org/doc\u001b[39m>\n",
      "- Get help and share ideas: <\u001b[36mhttps://dvc.org/chat\u001b[39m>\n",
      "- Star us on GitHub: <\u001b[36mhttps://github.com/iterative/dvc\u001b[39m>\n",
      "\u001b[0m"
     ]
    }
   ],
   "source": [
    "! git init\n",
    "! dvc init"
   ]
  },
  {
   "cell_type": "code",
   "execution_count": 32,
   "id": "727de9dc-5ba4-484f-9652-28111fca7655",
   "metadata": {},
   "outputs": [],
   "source": [
    "cp /home/pritam/data/raw_data.csv Data/raw_data.csv"
   ]
  },
  {
   "cell_type": "code",
   "execution_count": 2,
   "id": "a98eb80d-bc34-48e0-9c5c-cf2d5009980c",
   "metadata": {},
   "outputs": [
    {
     "name": "stdout",
     "output_type": "stream",
     "text": [
      "\u001b[31mERROR\u001b[39m: stage working dir '/home/pritam/Downloads/pritamAML2/Data/Data' does not exist\n",
      "\u001b[0m"
     ]
    }
   ],
   "source": [
    "# Track the raw data with DVC\n",
    "!dvc add Data/raw_data.csv"
   ]
  },
  {
   "cell_type": "code",
   "execution_count": 3,
   "id": "5cddde2e-6acf-48eb-b3ce-414eb1456e9f",
   "metadata": {
    "scrolled": true
   },
   "outputs": [
    {
     "name": "stdout",
     "output_type": "stream",
     "text": [
      "fatal: pathspec 'Data/raw_data.csv.dvc' did not match any files\n",
      "On branch master\n",
      "Untracked files:\n",
      "  (use \"git add <file>...\" to include in what will be committed)\n",
      "\t\u001b[31m../.ipynb_checkpoints/\u001b[m\n",
      "\t\u001b[31m./\u001b[m\n",
      "\t\u001b[31m../prepare2.ipynb\u001b[m\n",
      "\n",
      "nothing added to commit but untracked files present (use \"git add\" to track)\n"
     ]
    }
   ],
   "source": [
    "# Add the generated DVC file to git and commit\n",
    "!git add Data/raw_data.csv.dvc .gitignore\n",
    "!git commit -m \"Add raw data version 1\""
   ]
  },
  {
   "cell_type": "code",
   "execution_count": null,
   "id": "d8e6b9c3-1e3d-4b62-9132-f664700537c3",
   "metadata": {},
   "outputs": [],
   "source": [
    "\n",
    "# Add the generated DVC file to git and commit\n",
    "!git add Data/raw_data.csv.dvc .gitignore\n",
    "!git commit -m \"Add raw data version 1\"\n"
   ]
  },
  {
   "cell_type": "code",
   "execution_count": 7,
   "id": "74dcdf49-9e77-4205-90ea-8fd40a9d5e93",
   "metadata": {},
   "outputs": [
    {
     "name": "stdout",
     "output_type": "stream",
     "text": [
      "\u001b[?25l\u001b[32m⠋\u001b[0m Checking graph                                       core\u001b[39m>\n",
      "Adding...                                                                       \n",
      "!\u001b[A\n",
      "Collecting files and computing hashes in raw_data.csv |0.00 [00:00,     ?file/s]\u001b[A\n",
      "                                                                                \u001b[A\n",
      "!\u001b[A\n",
      "  0% Checking cache in '/home/pritam/Downloads/pritamAML2/.dvc/cache/files/md5'|\u001b[A\n",
      "                                                                                \u001b[A\n",
      "!\u001b[A\n",
      "  0%|          |Checking out /home/pritam/Downloads/pr0/1 [00:00<?,    ?files/s]\u001b[A\n",
      "100% Adding...|████████████████████████████████████████|1/1 [00:00, 61.90file/s]\u001b[A\n",
      "\n",
      "To track the changes with git, run:\n",
      "\n",
      "\tgit add raw_data.csv.dvc\n",
      "\n",
      "To enable auto staging, run:\n",
      "\n",
      "\tdvc config core.autostage true\n",
      "\u001b[0m"
     ]
    }
   ],
   "source": [
    "!dvc add raw_data.csv"
   ]
  },
  {
   "cell_type": "code",
   "execution_count": 10,
   "id": "347c7766-9f85-4475-876a-4b02d39aa337",
   "metadata": {},
   "outputs": [
    {
     "name": "stdout",
     "output_type": "stream",
     "text": [
      "fatal: pathspec 'Data/raw_data.csv.dvc' did not match any files\n",
      "On branch master\n",
      "Untracked files:\n",
      "  (use \"git add <file>...\" to include in what will be committed)\n",
      "\t\u001b[31m../.ipynb_checkpoints/\u001b[m\n",
      "\t\u001b[31m./\u001b[m\n",
      "\t\u001b[31m../prepare2.ipynb\u001b[m\n",
      "\n",
      "nothing added to commit but untracked files present (use \"git add\" to track)\n"
     ]
    }
   ],
   "source": [
    "# Add the generated DVC file to git and commit\n",
    "!git add Data/raw_data.csv.dvc .gitignore\n",
    "!git commit -m \"Add raw data version 1\""
   ]
  },
  {
   "cell_type": "code",
   "execution_count": 14,
   "id": "6c47078d-5b00-46a2-8eff-3afdcc3aece4",
   "metadata": {},
   "outputs": [
    {
     "name": "stdout",
     "output_type": "stream",
     "text": [
      "fatal: pathspec '.gitignore' did not match any files\n",
      "On branch master\n",
      "Untracked files:\n",
      "  (use \"git add <file>...\" to include in what will be committed)\n",
      "\t\u001b[31m.ipynb_checkpoints/\u001b[m\n",
      "\t\u001b[31mData/\u001b[m\n",
      "\t\u001b[31mprepare2.ipynb\u001b[m\n",
      "\n",
      "nothing added to commit but untracked files present (use \"git add\" to track)\n"
     ]
    }
   ],
   "source": [
    "!git add Data/raw_data.csv.dvc .gitignore\n",
    "!git commit -m \"Add raw data version 1\""
   ]
  },
  {
   "cell_type": "code",
   "execution_count": 21,
   "id": "cfb79d9c-5ba3-40b5-8df4-a6d191dced7f",
   "metadata": {},
   "outputs": [],
   "source": [
    "!echo \"\" > .gitignore"
   ]
  },
  {
   "cell_type": "code",
   "execution_count": 22,
   "id": "4c9a90d5-451e-4d6a-a913-d1e8d6adf9b0",
   "metadata": {},
   "outputs": [
    {
     "name": "stdout",
     "output_type": "stream",
     "text": [
      "[master 4e663b9] Add raw data version 1\n",
      " 2 files changed, 6 insertions(+)\n",
      " create mode 100644 .gitignore\n",
      " create mode 100644 Data/raw_data.csv.dvc\n"
     ]
    }
   ],
   "source": [
    "!git add Data/raw_data.csv.dvc .gitignore\n",
    "!git commit -m \"Add raw data version 1\""
   ]
  },
  {
   "cell_type": "code",
   "execution_count": 23,
   "id": "2b7435dd-c7f8-4df5-9734-acce014aea9b",
   "metadata": {},
   "outputs": [
    {
     "name": "stdout",
     "output_type": "stream",
     "text": [
      "total 52\n",
      "drwxrwxr-x 6 pritam pritam  4096 Mar  5 16:17 .\n",
      "drwxr-xr-x 5 pritam pritam 16384 Mar  5 15:29 ..\n",
      "drwxrwxr-x 3 pritam pritam  4096 Mar  5 16:21 Data\n",
      "drwxrwxr-x 4 pritam pritam  4096 Mar  5 15:50 .dvc\n",
      "-rw-rw-r-- 1 pritam pritam   139 Mar  5 15:43 .dvcignore\n",
      "drwxrwxr-x 8 pritam pritam  4096 Mar  5 16:20 .git\n",
      "-rw-rw-r-- 1 pritam pritam     1 Mar  5 16:20 .gitignore\n",
      "drwxrwxr-x 2 pritam pritam  4096 Mar  5 15:51 .ipynb_checkpoints\n",
      "-rw-rw-r-- 1 pritam pritam  7773 Mar  5 15:52 prepare2.ipynb\n"
     ]
    }
   ],
   "source": [
    "! ls -la /home/pritam/Downloads/pritamAML2"
   ]
  },
  {
   "cell_type": "markdown",
   "id": "47ef0686-cde3-423f-bbc5-43243d7e6319",
   "metadata": {},
   "source": [
    "# Create Initial Train/Validation/Test Split (Version 1)"
   ]
  },
  {
   "cell_type": "code",
   "execution_count": 24,
   "id": "9393b115-35c1-42e1-96fe-daa4172466bb",
   "metadata": {},
   "outputs": [],
   "source": [
    "import pandas as pd\n",
    "from sklearn.model_selection import train_test_split\n",
    "\n",
    "# Load the raw data\n",
    "df = pd.read_csv(\"Data/raw_data.csv\")"
   ]
  },
  {
   "cell_type": "code",
   "execution_count": 25,
   "id": "71787a35-bb2e-4f13-a029-743f368d4814",
   "metadata": {},
   "outputs": [
    {
     "data": {
      "text/html": [
       "<div>\n",
       "<style scoped>\n",
       "    .dataframe tbody tr th:only-of-type {\n",
       "        vertical-align: middle;\n",
       "    }\n",
       "\n",
       "    .dataframe tbody tr th {\n",
       "        vertical-align: top;\n",
       "    }\n",
       "\n",
       "    .dataframe thead th {\n",
       "        text-align: right;\n",
       "    }\n",
       "</style>\n",
       "<table border=\"1\" class=\"dataframe\">\n",
       "  <thead>\n",
       "    <tr style=\"text-align: right;\">\n",
       "      <th></th>\n",
       "      <th>Label</th>\n",
       "      <th>Message</th>\n",
       "    </tr>\n",
       "  </thead>\n",
       "  <tbody>\n",
       "    <tr>\n",
       "      <th>0</th>\n",
       "      <td>ham</td>\n",
       "      <td>Go until jurong point, crazy.. Available only ...</td>\n",
       "    </tr>\n",
       "    <tr>\n",
       "      <th>1</th>\n",
       "      <td>ham</td>\n",
       "      <td>Ok lar... Joking wif u oni...</td>\n",
       "    </tr>\n",
       "    <tr>\n",
       "      <th>2</th>\n",
       "      <td>spam</td>\n",
       "      <td>Free entry in 2 a wkly comp to win FA Cup fina...</td>\n",
       "    </tr>\n",
       "    <tr>\n",
       "      <th>3</th>\n",
       "      <td>ham</td>\n",
       "      <td>U dun say so early hor... U c already then say...</td>\n",
       "    </tr>\n",
       "    <tr>\n",
       "      <th>4</th>\n",
       "      <td>ham</td>\n",
       "      <td>Nah I don't think he goes to usf, he lives aro...</td>\n",
       "    </tr>\n",
       "  </tbody>\n",
       "</table>\n",
       "</div>"
      ],
      "text/plain": [
       "  Label                                            Message\n",
       "0   ham  Go until jurong point, crazy.. Available only ...\n",
       "1   ham                      Ok lar... Joking wif u oni...\n",
       "2  spam  Free entry in 2 a wkly comp to win FA Cup fina...\n",
       "3   ham  U dun say so early hor... U c already then say...\n",
       "4   ham  Nah I don't think he goes to usf, he lives aro..."
      ]
     },
     "execution_count": 25,
     "metadata": {},
     "output_type": "execute_result"
    }
   ],
   "source": [
    "df.head()"
   ]
  },
  {
   "cell_type": "code",
   "execution_count": 26,
   "id": "368700a6-1352-47a3-a624-a44c45e596f7",
   "metadata": {},
   "outputs": [],
   "source": [
    "train, temp = train_test_split(df, test_size=0.4, random_state=42, stratify=df['Label'])\n",
    "validation, test = train_test_split(temp, test_size=0.5, random_state=42, stratify=temp['Label'])"
   ]
  },
  {
   "cell_type": "code",
   "execution_count": 27,
   "id": "50d3b647-4cef-48cd-9c86-e3023855c161",
   "metadata": {},
   "outputs": [],
   "source": [
    "# Save the splits\n",
    "train.to_csv(\"Data/train.csv\", index=False)\n",
    "validation.to_csv(\"Data/validation.csv\", index=False)\n",
    "test.to_csv(\"Data/test.csv\", index=False)"
   ]
  },
  {
   "cell_type": "code",
   "execution_count": 28,
   "id": "85c3c74c-14ee-4277-b871-a8337e560e8e",
   "metadata": {},
   "outputs": [
    {
     "name": "stdout",
     "output_type": "stream",
     "text": [
      "\u001b[?25l\u001b[32m⠋\u001b[0m Checking graph                                       core\u001b[39m>\n",
      "  0% Adding...|                     | Data/train.csv |0/3 [00:00<?,     ?file/s]\n",
      "!\u001b[A\n",
      "Collecting files and computing hashes in Data/train.csv |0.00 [00:00,     ?file/\u001b[A\n",
      "                                                                                \u001b[A\n",
      "!\u001b[A\n",
      "  0% Checking cache in '/home/pritam/Downloads/pritamAML2/.dvc/cache/files/md5'|\u001b[A\n",
      "                                                                                \u001b[A\n",
      "!\u001b[A\n",
      "  0%|          |Adding Data/train.csv to cache        0/1 [00:00<?,     ?file/s]\u001b[A\n",
      "                                                                                \u001b[A\n",
      "!\u001b[A\n",
      "  0%|          |Checking out /home/pritam/Downloads/pr0/1 [00:00<?,    ?files/s]\u001b[A\n",
      "  0% Adding...|                | Data/validation.csv |0/3 [00:00<?,     ?file/s]\u001b[A\n",
      "!\u001b[A\n",
      "Collecting files and computing hashes in Data/validation.csv |0.00 [00:00,     ?\u001b[A\n",
      "                                                                                \u001b[A\n",
      "!\u001b[A\n",
      "  0% Checking cache in '/home/pritam/Downloads/pritamAML2/.dvc/cache/files/md5'|\u001b[A\n",
      "                                                                                \u001b[A\n",
      "!\u001b[A\n",
      "  0%|          |Adding Data/validation.csv to cache   0/1 [00:00<?,     ?file/s]\u001b[A\n",
      "                                                                                \u001b[A\n",
      "!\u001b[A\n",
      "  0%|          |Checking out /home/pritam/Downloads/pr0/1 [00:00<?,    ?files/s]\u001b[A\n",
      "  0% Adding...|                      | Data/test.csv |0/3 [00:00<?,     ?file/s]\u001b[A\n",
      "!\u001b[A\n",
      "Collecting files and computing hashes in Data/test.csv |0.00 [00:00,     ?file/s\u001b[A\n",
      "                                                                                \u001b[A\n",
      "!\u001b[A\n",
      "  0% Checking cache in '/home/pritam/Downloads/pritamAML2/.dvc/cache/files/md5'|\u001b[A\n",
      "                                                                                \u001b[A\n",
      "!\u001b[A\n",
      "  0%|          |Adding Data/test.csv to cache         0/1 [00:00<?,     ?file/s]\u001b[A\n",
      "                                                                                \u001b[A\n",
      "!\u001b[A\n",
      "  0%|          |Checking out /home/pritam/Downloads/pr0/1 [00:00<?,    ?files/s]\u001b[A\n",
      "100% Adding...|████████████████████████████████████████|3/3 [00:00, 76.93file/s]\u001b[A\n",
      "\n",
      "To track the changes with git, run:\n",
      "\n",
      "\tgit add Data/train.csv.dvc Data/validation.csv.dvc Data/test.csv.dvc Data/.gitignore\n",
      "\n",
      "To enable auto staging, run:\n",
      "\n",
      "\tdvc config core.autostage true\n",
      "\u001b[0m[master dd2f805] Create initial train/validation/test split with random_state=42\n",
      " 3 files changed, 15 insertions(+)\n",
      " create mode 100644 Data/test.csv.dvc\n",
      " create mode 100644 Data/train.csv.dvc\n",
      " create mode 100644 Data/validation.csv.dvc\n"
     ]
    }
   ],
   "source": [
    "# Track the split files with DVC and commit (first version)\n",
    "!dvc add Data/train.csv Data/validation.csv Data/test.csv\n",
    "!git add Data/train.csv.dvc Data/validation.csv.dvc Data/test.csv.dvc\n",
    "!git commit -m \"Create initial train/validation/test split with random_state=42\""
   ]
  },
  {
   "cell_type": "markdown",
   "id": "e7d6f814-3a35-4b75-a9ee-a5e04d210a5e",
   "metadata": {},
   "source": [
    "#  Update the Data Split (Version 2) with a Different Random Seed"
   ]
  },
  {
   "cell_type": "code",
   "execution_count": 44,
   "id": "b915362d-15b4-48d2-975b-936a25e5f819",
   "metadata": {},
   "outputs": [],
   "source": [
    "# Create a new split with a different random seed\n",
    "train_new, temp_new = train_test_split(df, test_size=0.4, random_state=2022, stratify=df['Label'])\n",
    "validation_new, test_new = train_test_split(temp_new, test_size=0.5, random_state=2022, stratify=temp_new['Label'])\n",
    "\n",
    "# Overwrite the existing CSV files with the new splits\n",
    "train_new.to_csv(\"Data/train.csv\", index=False)\n",
    "validation_new.to_csv(\"Data/validation.csv\", index=False)\n",
    "test_new.to_csv(\"Data/test.csv\", index=False)\n"
   ]
  },
  {
   "cell_type": "code",
   "execution_count": 32,
   "id": "cd3c084b-00be-4ef1-bfcb-51cb809835d6",
   "metadata": {
    "collapsed": true,
    "jupyter": {
     "outputs_hidden": true
    },
    "scrolled": true
   },
   "outputs": [
    {
     "name": "stdout",
     "output_type": "stream",
     "text": [
      "\u001b[?25l\u001b[32m⠋\u001b[0m Checking graph                                       core\u001b[39m>\n",
      "  0% Adding...|                     | Data/train.csv |0/3 [00:00<?,     ?file/s]\n",
      "!\u001b[A\n",
      "Collecting files and computing hashes in Data/train.csv |0.00 [00:00,     ?file/\u001b[A\n",
      "                                                                                \u001b[A\n",
      "!\u001b[A\n",
      "  0% Checking cache in '/home/pritam/Downloads/pritamAML2/.dvc/cache/files/md5'|\u001b[A\n",
      "                                                                                \u001b[A\n",
      "!\u001b[A\n",
      "  0%|          |Checking out /home/pritam/Downloads/pr0/1 [00:00<?,    ?files/s]\u001b[A\n",
      "  0% Adding...|                | Data/validation.csv |0/3 [00:00<?,     ?file/s]\u001b[A\n",
      "!\u001b[A\n",
      "Collecting files and computing hashes in Data/validation.csv |0.00 [00:00,     ?\u001b[A\n",
      "                                                                                \u001b[A\n",
      "!\u001b[A\n",
      "  0% Checking cache in '/home/pritam/Downloads/pritamAML2/.dvc/cache/files/md5'|\u001b[A\n",
      "                                                                                \u001b[A\n",
      "!\u001b[A\n",
      "  0%|          |Checking out /home/pritam/Downloads/pr0/1 [00:00<?,    ?files/s]\u001b[A\n",
      "  0% Adding...|                      | Data/test.csv |0/3 [00:00<?,     ?file/s]\u001b[A\n",
      "!\u001b[A\n",
      "Collecting files and computing hashes in Data/test.csv |0.00 [00:00,     ?file/s\u001b[A\n",
      "                                                                                \u001b[A\n",
      "!\u001b[A\n",
      "  0% Checking cache in '/home/pritam/Downloads/pritamAML2/.dvc/cache/files/md5'|\u001b[A\n",
      "                                                                                \u001b[A\n",
      "!\u001b[A\n",
      "  0%|          |Checking out /home/pritam/Downloads/pr0/1 [00:00<?,    ?files/s]\u001b[A\n",
      "100% Adding...|████████████████████████████████████████|3/3 [00:00, 99.14file/s]\u001b[A\n",
      "\n",
      "To track the changes with git, run:\n",
      "\n",
      "\tgit add Data/test.csv.dvc Data/train.csv.dvc Data/validation.csv.dvc\n",
      "\n",
      "To enable auto staging, run:\n",
      "\n",
      "\tdvc config core.autostage true\n",
      "\u001b[0mOn branch master\n",
      "Untracked files:\n",
      "  (use \"git add <file>...\" to include in what will be committed)\n",
      "\t\u001b[31m.ipynb_checkpoints/\u001b[m\n",
      "\t\u001b[31mData/.gitignore\u001b[m\n",
      "\t\u001b[31mData/.ipynb_checkpoints/\u001b[m\n",
      "\t\u001b[31mData/prepare2.ipynb\u001b[m\n",
      "\t\u001b[31mprepare2.ipynb\u001b[m\n",
      "\n",
      "nothing added to commit but untracked files present (use \"git add\" to track)\n"
     ]
    }
   ],
   "source": [
    "!dvc add Data/train.csv Data/validation.csv Data/test.csv\n",
    "!git add Data/train.csv.dvc Data/validation.csv.dvc Data/test.csv.dvc\n",
    "!git commit -m \"Updated train/validation/test split with random_state=2022\""
   ]
  },
  {
   "cell_type": "code",
   "execution_count": 33,
   "id": "67c9c097-c2e0-439e-b86e-b0ebb19c6f85",
   "metadata": {},
   "outputs": [
    {
     "name": "stdout",
     "output_type": "stream",
     "text": [
      "On branch master\n",
      "Untracked files:\n",
      "  (use \"git add <file>...\" to include in what will be committed)\n",
      "\t\u001b[31m.ipynb_checkpoints/\u001b[m\n",
      "\t\u001b[31mData/.gitignore\u001b[m\n",
      "\t\u001b[31mData/.ipynb_checkpoints/\u001b[m\n",
      "\t\u001b[31mData/prepare2.ipynb\u001b[m\n",
      "\t\u001b[31mprepare2.ipynb\u001b[m\n",
      "\n",
      "nothing added to commit but untracked files present (use \"git add\" to track)\n"
     ]
    }
   ],
   "source": [
    "!git commit -m \"Updated train/validation/test split with random_state=2022\""
   ]
  },
  {
   "cell_type": "code",
   "execution_count": 55,
   "id": "64623136-7d45-48b2-982e-ef6a6785b835",
   "metadata": {},
   "outputs": [
    {
     "name": "stdout",
     "output_type": "stream",
     "text": [
      "\u001b[33mcommit f7d1bd3d4f35ce52164f0ce445a66ecf5554cce9\u001b[m\u001b[33m (\u001b[m\u001b[1;36mHEAD -> \u001b[m\u001b[1;32mmaster\u001b[m\u001b[33m)\u001b[m\n",
      "Author: Pritam Padhan <padhanpritam26@gmail.com>\n",
      "Date:   Wed Mar 5 16:39:48 2025 +0530\n",
      "\n",
      "    Updated train/validation/test split with random_state=2022\n",
      "\n",
      "\u001b[33mcommit dd2f805f57a6ad40678e594e4e59d43c4de1c72f\u001b[m\n",
      "Author: Pritam Padhan <padhanpritam26@gmail.com>\n",
      "Date:   Wed Mar 5 16:28:07 2025 +0530\n",
      "\n",
      "    Create initial train/validation/test split with random_state=42\n"
     ]
    }
   ],
   "source": [
    "! git log -2"
   ]
  },
  {
   "cell_type": "markdown",
   "id": "38d8c99c-a7c0-4612-92e7-6a24b3de7205",
   "metadata": {},
   "source": [
    "# Checkout and Compare the Two Versions"
   ]
  },
  {
   "cell_type": "code",
   "execution_count": 60,
   "id": "61dddb9f-c89c-49f8-a5d7-75d4bf6c6a0a",
   "metadata": {},
   "outputs": [
    {
     "name": "stdout",
     "output_type": "stream",
     "text": [
      "\u001b[33mf7d1bd3\u001b[m\u001b[33m (\u001b[m\u001b[1;36mHEAD -> \u001b[m\u001b[1;32mmaster\u001b[m\u001b[33m)\u001b[m Updated train/validation/test split with random_state=2022\n",
      "\u001b[33mdd2f805\u001b[m Create initial train/validation/test split with random_state=42\n",
      "\u001b[33m4e663b9\u001b[m Add raw data version 1\n",
      "\u001b[33me9071c6\u001b[m Add raw data version 1\n"
     ]
    }
   ],
   "source": [
    "!git log --oneline"
   ]
  },
  {
   "cell_type": "markdown",
   "id": "a0c2aa65-0297-435b-9332-426513113018",
   "metadata": {},
   "source": [
    "## For version 1"
   ]
  },
  {
   "cell_type": "code",
   "execution_count": 71,
   "id": "136cd166-a03b-4eea-ad99-7969ae643c28",
   "metadata": {},
   "outputs": [
    {
     "name": "stdout",
     "output_type": "stream",
     "text": [
      "Previous HEAD position was 4e663b9 Add raw data version 1\n",
      "HEAD is now at dd2f805 Create initial train/validation/test split with random_state=42\n",
      "Building workspace index                              |4.00 [00:00,  782entry/s]\n",
      "Comparing indexes                                    |5.00 [00:00, 3.72kentry/s]\n",
      "Applying changes                                      |3.00 [00:00, 1.04kfile/s]\n",
      "\u001b[33mM\u001b[0m       Data/train.csv\n",
      "\u001b[33mM\u001b[0m       Data/test.csv\n",
      "\u001b[33mM\u001b[0m       Data/validation.csv\n",
      "\u001b[0m"
     ]
    }
   ],
   "source": [
    "!git checkout dd2f805  # Replace abc123 with your actual commit hash for version 1\n",
    "!dvc checkout Data/train.csv Data/validation.csv Data/test.csv"
   ]
  },
  {
   "cell_type": "code",
   "execution_count": 72,
   "id": "6bf1d3fd-dd19-4a58-9f39-ebbe35aa5608",
   "metadata": {},
   "outputs": [
    {
     "name": "stdout",
     "output_type": "stream",
     "text": [
      "Version 1 (Initial Split) Distribution:\n",
      "Train:\n",
      " Label\n",
      "ham     2895\n",
      "spam     448\n",
      "Name: count, dtype: int64\n",
      "Validation:\n",
      " Label\n",
      "ham     965\n",
      "spam    149\n",
      "Name: count, dtype: int64\n",
      "Test:\n",
      " Label\n",
      "ham     965\n",
      "spam    150\n",
      "Name: count, dtype: int64\n"
     ]
    }
   ],
   "source": [
    "# Load the splits from version 1\n",
    "train_v1 = pd.read_csv(\"Data/train.csv\")\n",
    "validation_v1 = pd.read_csv(\"Data/validation.csv\")\n",
    "test_v1 = pd.read_csv(\"Data/test.csv\")\n",
    "\n",
    "# Print the distribution (count of 0s and 1s) for the target variable\n",
    "print(\"Version 1 (Initial Split) Distribution:\")\n",
    "print(\"Train:\\n\", train_v1['Label'].value_counts())\n",
    "print(\"Validation:\\n\", validation_v1['Label'].value_counts())\n",
    "print(\"Test:\\n\", test_v1['Label'].value_counts())"
   ]
  },
  {
   "cell_type": "code",
   "execution_count": 73,
   "id": "6100a9ed-95a8-48b7-b636-c4371602e5ff",
   "metadata": {},
   "outputs": [
    {
     "name": "stdout",
     "output_type": "stream",
     "text": [
      "Previous HEAD position was dd2f805 Create initial train/validation/test split with random_state=42\n",
      "HEAD is now at f7d1bd3 Updated train/validation/test split with random_state=2022\n",
      "Building workspace index                              |4.00 [00:00,  803entry/s]\n",
      "Comparing indexes                                    |5.00 [00:00, 3.89kentry/s]\n",
      "Applying changes                                      |3.00 [00:00,   949file/s]\n",
      "\u001b[33mM\u001b[0m       Data/test.csv\n",
      "\u001b[33mM\u001b[0m       Data/train.csv\n",
      "\u001b[33mM\u001b[0m       Data/validation.csv\n",
      "\u001b[0m"
     ]
    }
   ],
   "source": [
    "!git checkout f7d1bd3  # Replace def456 with your actual commit hash for version 2\n",
    "!dvc checkout Data/train.csv Data/validation.csv Data/test.csv"
   ]
  },
  {
   "cell_type": "code",
   "execution_count": 74,
   "id": "c953d6c1-9a6a-44c9-a0d1-23b95e360e16",
   "metadata": {},
   "outputs": [
    {
     "name": "stdout",
     "output_type": "stream",
     "text": [
      "Version 2 (Updated Split) Distribution:\n",
      "Train:\n",
      " Label\n",
      "ham     2895\n",
      "spam     448\n",
      "Name: count, dtype: int64\n",
      "Validation:\n",
      " Label\n",
      "ham     965\n",
      "spam    149\n",
      "Name: count, dtype: int64\n",
      "Test:\n",
      " Label\n",
      "ham     965\n",
      "spam    150\n",
      "Name: count, dtype: int64\n"
     ]
    }
   ],
   "source": [
    "# Load the splits from version 2\n",
    "train_v2 = pd.read_csv(\"Data/train.csv\")\n",
    "validation_v2 = pd.read_csv(\"Data/validation.csv\")\n",
    "test_v2 = pd.read_csv(\"Data/test.csv\")\n",
    "\n",
    "# Print the distribution for the updated split\n",
    "print(\"Version 2 (Updated Split) Distribution:\")\n",
    "print(\"Train:\\n\", train_v2['Label'].value_counts())\n",
    "print(\"Validation:\\n\", validation_v2['Label'].value_counts())\n",
    "print(\"Test:\\n\", test_v2['Label'].value_counts())"
   ]
  },
  {
   "cell_type": "code",
   "execution_count": null,
   "id": "9e6b8425-1c76-4829-95c5-12d8e28c09da",
   "metadata": {},
   "outputs": [],
   "source": []
  },
  {
   "cell_type": "code",
   "execution_count": null,
   "id": "8435479f-b60f-4dc7-a673-703bf6e6bba3",
   "metadata": {},
   "outputs": [],
   "source": []
  },
  {
   "cell_type": "code",
   "execution_count": null,
   "id": "df915271-25f2-4f20-b4d1-23e874730641",
   "metadata": {},
   "outputs": [],
   "source": []
  }
 ],
 "metadata": {
  "kernelspec": {
   "display_name": "Python 3 (ipykernel)",
   "language": "python",
   "name": "python3"
  },
  "language_info": {
   "codemirror_mode": {
    "name": "ipython",
    "version": 3
   },
   "file_extension": ".py",
   "mimetype": "text/x-python",
   "name": "python",
   "nbconvert_exporter": "python",
   "pygments_lexer": "ipython3",
   "version": "3.10.12"
  }
 },
 "nbformat": 4,
 "nbformat_minor": 5
}
