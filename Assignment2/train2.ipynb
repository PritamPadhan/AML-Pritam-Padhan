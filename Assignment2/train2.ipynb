{
 "cells": [
  {
   "cell_type": "code",
   "execution_count": 1,
   "id": "d6369fc8-3f25-4e1e-bcd8-ff5f1130e3c5",
   "metadata": {},
   "outputs": [
    {
     "name": "stdout",
     "output_type": "stream",
     "text": [
      "Defaulting to user installation because normal site-packages is not writeable\n",
      "Requirement already satisfied: mlflow in /home/pritam/.local/lib/python3.10/site-packages (2.20.3)\n",
      "Requirement already satisfied: scikit-learn in /home/pritam/.local/lib/python3.10/site-packages (1.6.1)\n",
      "Requirement already satisfied: xgboost in /home/pritam/.local/lib/python3.10/site-packages (2.1.4)\n",
      "Requirement already satisfied: pandas in /home/pritam/.local/lib/python3.10/site-packages (2.2.3)\n",
      "Requirement already satisfied: numpy in /home/pritam/.local/lib/python3.10/site-packages (2.2.0)\n",
      "Requirement already satisfied: docker<8,>=4.0.0 in /home/pritam/.local/lib/python3.10/site-packages (from mlflow) (7.1.0)\n",
      "Requirement already satisfied: Jinja2<4,>=2.11 in /home/pritam/.local/lib/python3.10/site-packages (from mlflow) (3.1.5)\n",
      "Requirement already satisfied: matplotlib<4 in /home/pritam/.local/lib/python3.10/site-packages (from mlflow) (3.10.1)\n",
      "Requirement already satisfied: alembic!=1.10.0,<2 in /home/pritam/.local/lib/python3.10/site-packages (from mlflow) (1.15.1)\n",
      "Requirement already satisfied: pyarrow<20,>=4.0.0 in /home/pritam/.local/lib/python3.10/site-packages (from mlflow) (19.0.1)\n",
      "Requirement already satisfied: graphene<4 in /home/pritam/.local/lib/python3.10/site-packages (from mlflow) (3.4.3)\n",
      "Requirement already satisfied: scipy<2 in /home/pritam/.local/lib/python3.10/site-packages (from mlflow) (1.15.2)\n",
      "Requirement already satisfied: markdown<4,>=3.3 in /usr/lib/python3/dist-packages (from mlflow) (3.3.6)\n",
      "Requirement already satisfied: mlflow-skinny==2.20.3 in /home/pritam/.local/lib/python3.10/site-packages (from mlflow) (2.20.3)\n",
      "Requirement already satisfied: Flask<4 in /home/pritam/.local/lib/python3.10/site-packages (from mlflow) (3.1.0)\n",
      "Requirement already satisfied: gunicorn<24 in /home/pritam/.local/lib/python3.10/site-packages (from mlflow) (23.0.0)\n",
      "Requirement already satisfied: sqlalchemy<3,>=1.4.0 in /home/pritam/.local/lib/python3.10/site-packages (from mlflow) (2.0.38)\n",
      "Requirement already satisfied: cachetools<6,>=5.0.0 in /home/pritam/.local/lib/python3.10/site-packages (from mlflow-skinny==2.20.3->mlflow) (5.5.2)\n",
      "Requirement already satisfied: importlib_metadata!=4.7.0,<9,>=3.7.0 in /home/pritam/.local/lib/python3.10/site-packages (from mlflow-skinny==2.20.3->mlflow) (8.5.0)\n",
      "Requirement already satisfied: opentelemetry-api<3,>=1.9.0 in /home/pritam/.local/lib/python3.10/site-packages (from mlflow-skinny==2.20.3->mlflow) (1.30.0)\n",
      "Requirement already satisfied: packaging<25 in /home/pritam/.local/lib/python3.10/site-packages (from mlflow-skinny==2.20.3->mlflow) (24.2)\n",
      "Requirement already satisfied: pydantic<3,>=1.10.8 in /home/pritam/.local/lib/python3.10/site-packages (from mlflow-skinny==2.20.3->mlflow) (2.10.6)\n",
      "Requirement already satisfied: requests<3,>=2.17.3 in /home/pritam/.local/lib/python3.10/site-packages (from mlflow-skinny==2.20.3->mlflow) (2.32.3)\n",
      "Requirement already satisfied: click<9,>=7.0 in /home/pritam/.local/lib/python3.10/site-packages (from mlflow-skinny==2.20.3->mlflow) (8.1.8)\n",
      "Requirement already satisfied: typing-extensions<5,>=4.0.0 in /home/pritam/.local/lib/python3.10/site-packages (from mlflow-skinny==2.20.3->mlflow) (4.12.2)\n",
      "Requirement already satisfied: opentelemetry-sdk<3,>=1.9.0 in /home/pritam/.local/lib/python3.10/site-packages (from mlflow-skinny==2.20.3->mlflow) (1.30.0)\n",
      "Requirement already satisfied: pyyaml<7,>=5.1 in /usr/lib/python3/dist-packages (from mlflow-skinny==2.20.3->mlflow) (5.4.1)\n",
      "Requirement already satisfied: sqlparse<1,>=0.4.0 in /home/pritam/.local/lib/python3.10/site-packages (from mlflow-skinny==2.20.3->mlflow) (0.5.3)\n",
      "Requirement already satisfied: databricks-sdk<1,>=0.20.0 in /home/pritam/.local/lib/python3.10/site-packages (from mlflow-skinny==2.20.3->mlflow) (0.44.1)\n",
      "Requirement already satisfied: cloudpickle<4 in /home/pritam/.local/lib/python3.10/site-packages (from mlflow-skinny==2.20.3->mlflow) (3.1.0)\n",
      "Requirement already satisfied: protobuf<6,>=3.12.0 in /usr/lib/python3/dist-packages (from mlflow-skinny==2.20.3->mlflow) (3.12.4)\n",
      "Requirement already satisfied: gitpython<4,>=3.1.9 in /home/pritam/.local/lib/python3.10/site-packages (from mlflow-skinny==2.20.3->mlflow) (3.1.44)\n",
      "Requirement already satisfied: threadpoolctl>=3.1.0 in /home/pritam/.local/lib/python3.10/site-packages (from scikit-learn) (3.5.0)\n",
      "Requirement already satisfied: joblib>=1.2.0 in /home/pritam/.local/lib/python3.10/site-packages (from scikit-learn) (1.4.2)\n",
      "Requirement already satisfied: nvidia-nccl-cu12 in /home/pritam/.local/lib/python3.10/site-packages (from xgboost) (2.25.1)\n",
      "Requirement already satisfied: python-dateutil>=2.8.2 in /home/pritam/.local/lib/python3.10/site-packages (from pandas) (2.9.0.post0)\n",
      "Requirement already satisfied: pytz>=2020.1 in /usr/lib/python3/dist-packages (from pandas) (2022.1)\n",
      "Requirement already satisfied: tzdata>=2022.7 in /home/pritam/.local/lib/python3.10/site-packages (from pandas) (2025.1)\n",
      "Requirement already satisfied: Mako in /home/pritam/.local/lib/python3.10/site-packages (from alembic!=1.10.0,<2->mlflow) (1.3.9)\n",
      "Requirement already satisfied: urllib3>=1.26.0 in /usr/lib/python3/dist-packages (from docker<8,>=4.0.0->mlflow) (1.26.5)\n",
      "Requirement already satisfied: Werkzeug>=3.1 in /home/pritam/.local/lib/python3.10/site-packages (from Flask<4->mlflow) (3.1.3)\n",
      "Requirement already satisfied: itsdangerous>=2.2 in /home/pritam/.local/lib/python3.10/site-packages (from Flask<4->mlflow) (2.2.0)\n",
      "Requirement already satisfied: blinker>=1.9 in /home/pritam/.local/lib/python3.10/site-packages (from Flask<4->mlflow) (1.9.0)\n",
      "Requirement already satisfied: graphql-core<3.3,>=3.1 in /home/pritam/.local/lib/python3.10/site-packages (from graphene<4->mlflow) (3.2.6)\n",
      "Requirement already satisfied: graphql-relay<3.3,>=3.1 in /home/pritam/.local/lib/python3.10/site-packages (from graphene<4->mlflow) (3.2.0)\n",
      "Requirement already satisfied: MarkupSafe>=2.0 in /home/pritam/.local/lib/python3.10/site-packages (from Jinja2<4,>=2.11->mlflow) (3.0.2)\n",
      "Requirement already satisfied: fonttools>=4.22.0 in /home/pritam/.local/lib/python3.10/site-packages (from matplotlib<4->mlflow) (4.56.0)\n",
      "Requirement already satisfied: contourpy>=1.0.1 in /home/pritam/.local/lib/python3.10/site-packages (from matplotlib<4->mlflow) (1.3.1)\n",
      "Requirement already satisfied: pyparsing>=2.3.1 in /home/pritam/.local/lib/python3.10/site-packages (from matplotlib<4->mlflow) (3.2.1)\n",
      "Requirement already satisfied: kiwisolver>=1.3.1 in /home/pritam/.local/lib/python3.10/site-packages (from matplotlib<4->mlflow) (1.4.8)\n",
      "Requirement already satisfied: cycler>=0.10 in /home/pritam/.local/lib/python3.10/site-packages (from matplotlib<4->mlflow) (0.12.1)\n",
      "Requirement already satisfied: pillow>=8 in /home/pritam/.local/lib/python3.10/site-packages (from matplotlib<4->mlflow) (11.1.0)\n",
      "Requirement already satisfied: six>=1.5 in /usr/lib/python3/dist-packages (from python-dateutil>=2.8.2->pandas) (1.16.0)\n",
      "Requirement already satisfied: greenlet!=0.4.17 in /home/pritam/.local/lib/python3.10/site-packages (from sqlalchemy<3,>=1.4.0->mlflow) (3.1.1)\n",
      "Requirement already satisfied: google-auth~=2.0 in /home/pritam/.local/lib/python3.10/site-packages (from databricks-sdk<1,>=0.20.0->mlflow-skinny==2.20.3->mlflow) (2.38.0)\n",
      "Requirement already satisfied: gitdb<5,>=4.0.1 in /home/pritam/.local/lib/python3.10/site-packages (from gitpython<4,>=3.1.9->mlflow-skinny==2.20.3->mlflow) (4.0.12)\n",
      "Requirement already satisfied: zipp>=3.20 in /home/pritam/.local/lib/python3.10/site-packages (from importlib_metadata!=4.7.0,<9,>=3.7.0->mlflow-skinny==2.20.3->mlflow) (3.21.0)\n",
      "Requirement already satisfied: deprecated>=1.2.6 in /home/pritam/.local/lib/python3.10/site-packages (from opentelemetry-api<3,>=1.9.0->mlflow-skinny==2.20.3->mlflow) (1.2.18)\n",
      "Requirement already satisfied: opentelemetry-semantic-conventions==0.51b0 in /home/pritam/.local/lib/python3.10/site-packages (from opentelemetry-sdk<3,>=1.9.0->mlflow-skinny==2.20.3->mlflow) (0.51b0)\n",
      "Requirement already satisfied: annotated-types>=0.6.0 in /home/pritam/.local/lib/python3.10/site-packages (from pydantic<3,>=1.10.8->mlflow-skinny==2.20.3->mlflow) (0.7.0)\n",
      "Requirement already satisfied: pydantic-core==2.27.2 in /home/pritam/.local/lib/python3.10/site-packages (from pydantic<3,>=1.10.8->mlflow-skinny==2.20.3->mlflow) (2.27.2)\n",
      "Requirement already satisfied: idna<4,>=2.5 in /usr/lib/python3/dist-packages (from requests<3,>=2.17.3->mlflow-skinny==2.20.3->mlflow) (3.3)\n",
      "Requirement already satisfied: charset-normalizer<4,>=2 in /usr/lib/python3/dist-packages (from requests<3,>=2.17.3->mlflow-skinny==2.20.3->mlflow) (2.0.6)\n",
      "Requirement already satisfied: certifi>=2017.4.17 in /usr/lib/python3/dist-packages (from requests<3,>=2.17.3->mlflow-skinny==2.20.3->mlflow) (2020.6.20)\n",
      "Requirement already satisfied: wrapt<2,>=1.10 in /home/pritam/.local/lib/python3.10/site-packages (from deprecated>=1.2.6->opentelemetry-api<3,>=1.9.0->mlflow-skinny==2.20.3->mlflow) (1.17.2)\n",
      "Requirement already satisfied: smmap<6,>=3.0.1 in /home/pritam/.local/lib/python3.10/site-packages (from gitdb<5,>=4.0.1->gitpython<4,>=3.1.9->mlflow-skinny==2.20.3->mlflow) (5.0.2)\n",
      "Requirement already satisfied: pyasn1-modules>=0.2.1 in /home/pritam/.local/lib/python3.10/site-packages (from google-auth~=2.0->databricks-sdk<1,>=0.20.0->mlflow-skinny==2.20.3->mlflow) (0.4.1)\n",
      "Requirement already satisfied: rsa<5,>=3.1.4 in /home/pritam/.local/lib/python3.10/site-packages (from google-auth~=2.0->databricks-sdk<1,>=0.20.0->mlflow-skinny==2.20.3->mlflow) (4.9)\n",
      "Requirement already satisfied: pyasn1<0.7.0,>=0.4.6 in /home/pritam/.local/lib/python3.10/site-packages (from pyasn1-modules>=0.2.1->google-auth~=2.0->databricks-sdk<1,>=0.20.0->mlflow-skinny==2.20.3->mlflow) (0.6.1)\n"
     ]
    }
   ],
   "source": [
    "! pip install mlflow scikit-learn xgboost pandas numpy"
   ]
  },
  {
   "cell_type": "code",
   "execution_count": 2,
   "id": "cf767b13-21ce-431d-8597-32925d8fd6f3",
   "metadata": {},
   "outputs": [],
   "source": [
    "import pandas as pd\n",
    "import numpy as np\n",
    "from sklearn.model_selection import train_test_split\n",
    "from sklearn.feature_extraction.text import TfidfVectorizer\n",
    "from sklearn.linear_model import LogisticRegression\n",
    "from sklearn.ensemble import RandomForestClassifier\n",
    "from xgboost import XGBClassifier\n",
    "from sklearn.metrics import precision_recall_curve, auc\n",
    "import mlflow\n",
    "import mlflow.sklearn"
   ]
  },
  {
   "cell_type": "code",
   "execution_count": 4,
   "id": "0651b23e-6a00-404a-adfc-9a075593c8ec",
   "metadata": {},
   "outputs": [],
   "source": [
    "# Load the saved splits\n",
    "train = pd.read_csv(\"train.csv\")\n",
    "validation = pd.read_csv(\"validation.csv\")\n",
    "test = pd.read_csv(\"test.csv\")\n",
    "\n",
    "# Prepare features and labels\n",
    "X_train, y_train = train[\"Message\"], train[\"Label\"].apply(lambda x: 1 if x == \"spam\" else 0)\n",
    "X_val, y_val = validation[\"Message\"], validation[\"Label\"].apply(lambda x: 1 if x == \"spam\" else 0)\n",
    "X_test, y_test = test[\"Message\"], test[\"Label\"].apply(lambda x: 1 if x == \"spam\" else 0)\n",
    "\n",
    "# Convert text data to TF-IDF features\n",
    "vectorizer = TfidfVectorizer(max_features=5000)\n",
    "X_train_tfidf = vectorizer.fit_transform(X_train)\n",
    "X_val_tfidf = vectorizer.transform(X_val)\n",
    "X_test_tfidf = vectorizer.transform(X_test)"
   ]
  },
  {
   "cell_type": "code",
   "execution_count": 5,
   "id": "4cd86bc0-e5ad-44fa-be00-9938c972452f",
   "metadata": {},
   "outputs": [],
   "source": [
    "def calculate_aucpr(y_true, y_pred_proba):\n",
    "    precision, recall, _ = precision_recall_curve(y_true, y_pred_proba)\n",
    "    return auc(recall, precision)"
   ]
  },
  {
   "cell_type": "code",
   "execution_count": 6,
   "id": "b859d93b-ffbd-47dd-98bf-449fe3e10a58",
   "metadata": {},
   "outputs": [
    {
     "name": "stderr",
     "output_type": "stream",
     "text": [
      "2025/03/05 21:12:17 INFO mlflow.tracking.fluent: Experiment with name 'Spam_Ham_Classification' does not exist. Creating a new experiment.\n"
     ]
    },
    {
     "name": "stdout",
     "output_type": "stream",
     "text": [
      "Logistic Regression - Validation AUCPR: 0.9658774231329608\n",
      "Logistic Regression - Test AUCPR: 0.9858878854003535\n"
     ]
    },
    {
     "name": "stderr",
     "output_type": "stream",
     "text": [
      "\u001b[31m2025/03/05 21:12:19 WARNING mlflow.models.model: Model logged without a signature and input example. Please set `input_example` parameter when logging the model to auto infer the model signature.\u001b[0m\n"
     ]
    },
    {
     "name": "stdout",
     "output_type": "stream",
     "text": [
      "Random Forest - Validation AUCPR: 0.9728352244955467\n",
      "Random Forest - Test AUCPR: 0.9864134189104092\n"
     ]
    },
    {
     "name": "stderr",
     "output_type": "stream",
     "text": [
      "\u001b[31m2025/03/05 21:12:22 WARNING mlflow.models.model: Model logged without a signature and input example. Please set `input_example` parameter when logging the model to auto infer the model signature.\u001b[0m\n",
      "/home/pritam/.local/lib/python3.10/site-packages/xgboost/core.py:158: UserWarning: [21:12:22] WARNING: /workspace/src/learner.cc:740: \n",
      "Parameters: { \"use_label_encoder\" } are not used.\n",
      "\n",
      "  warnings.warn(smsg, UserWarning)\n"
     ]
    },
    {
     "name": "stdout",
     "output_type": "stream",
     "text": [
      "XGBoost - Validation AUCPR: 0.9514961552746767\n",
      "XGBoost - Test AUCPR: 0.9707991111676805\n"
     ]
    },
    {
     "name": "stderr",
     "output_type": "stream",
     "text": [
      "\u001b[31m2025/03/05 21:12:24 WARNING mlflow.models.model: Model logged without a signature and input example. Please set `input_example` parameter when logging the model to auto infer the model signature.\u001b[0m\n"
     ]
    }
   ],
   "source": [
    "# Define the models to evaluate\n",
    "models = {\n",
    "    \"Logistic Regression\": LogisticRegression(),\n",
    "    \"Random Forest\": RandomForestClassifier(),\n",
    "    \"XGBoost\": XGBClassifier(use_label_encoder=False, eval_metric=\"logloss\")\n",
    "}\n",
    "\n",
    "# Start MLflow experiment\n",
    "mlflow.set_experiment(\"Spam_Ham_Classification\")\n",
    "\n",
    "for model_name, model in models.items():\n",
    "    with mlflow.start_run():\n",
    "        # Train the model on the training set\n",
    "        model.fit(X_train_tfidf, y_train)\n",
    "\n",
    "        # Predict probabilities on the validation set\n",
    "        y_val_pred_proba = model.predict_proba(X_val_tfidf)[:, 1]\n",
    "\n",
    "        # Calculate AUCPR on the validation set\n",
    "        val_aucpr = calculate_aucpr(y_val, y_val_pred_proba)\n",
    "        print(f\"{model_name} - Validation AUCPR: {val_aucpr}\")\n",
    "\n",
    "        # Log validation metrics\n",
    "        mlflow.log_metric(\"Validation_AUCPR\", val_aucpr)\n",
    "\n",
    "        # Predict probabilities on the test set\n",
    "        y_test_pred_proba = model.predict_proba(X_test_tfidf)[:, 1]\n",
    "\n",
    "        # Calculate AUCPR on the test set\n",
    "        test_aucpr = calculate_aucpr(y_test, y_test_pred_proba)\n",
    "        print(f\"{model_name} - Test AUCPR: {test_aucpr}\")\n",
    "\n",
    "        # Log test metrics\n",
    "        mlflow.log_metric(\"Test_AUCPR\", test_aucpr)\n",
    "\n",
    "        # Log the model\n",
    "        mlflow.sklearn.log_model(model, model_name)"
   ]
  },
  {
   "cell_type": "code",
   "execution_count": 8,
   "id": "f233af16-c06d-4826-a3a8-29c16ca7a81f",
   "metadata": {},
   "outputs": [
    {
     "name": "stdout",
     "output_type": "stream",
     "text": [
      "Model: colorful-bear-88, Validation AUCPR: 0.9514961552746767, Test AUCPR: 0.9707991111676805\n",
      "Model: wistful-hen-585, Validation AUCPR: 0.9728352244955467, Test AUCPR: 0.9864134189104092\n",
      "Model: unleashed-duck-372, Validation AUCPR: 0.9658774231329608, Test AUCPR: 0.9858878854003535\n"
     ]
    }
   ],
   "source": [
    "# Retrieve runs and print AUCPR\n",
    "experiment_id = mlflow.get_experiment_by_name(\"Spam_Ham_Classification\").experiment_id\n",
    "runs = mlflow.search_runs(experiment_id)\n",
    "\n",
    "for _, run in runs.iterrows():\n",
    "    print(f\"Model: {run['tags.mlflow.runName']}, Validation AUCPR: {run['metrics.Validation_AUCPR']}, Test AUCPR: {run['metrics.Test_AUCPR']}\")"
   ]
  },
  {
   "cell_type": "code",
   "execution_count": 9,
   "id": "5fd7b1fd-a9d8-423d-9cca-2c18b92c9e5b",
   "metadata": {},
   "outputs": [
    {
     "name": "stderr",
     "output_type": "stream",
     "text": [
      "Successfully registered model 'Spam_Ham_Best_Model'.\n",
      "Created version '1' of model 'Spam_Ham_Best_Model'.\n"
     ]
    },
    {
     "data": {
      "text/plain": [
       "<ModelVersion: aliases=[], creation_timestamp=1741189492062, current_stage='None', description=None, last_updated_timestamp=1741189492062, name='Spam_Ham_Best_Model', run_id='0cc0d6a01c384f6490441080e3b332bf', run_link=None, source='file:///home/pritam/Downloads/pritamAML2/Data/mlruns/308788947089622271/0cc0d6a01c384f6490441080e3b332bf/artifacts/wistful-hen-585', status='READY', status_message=None, tags={}, user_id=None, version=1>"
      ]
     },
     "execution_count": 9,
     "metadata": {},
     "output_type": "execute_result"
    }
   ],
   "source": [
    "# Find the best model based on Validation AUCPR\n",
    "best_run = runs.loc[runs[\"metrics.Validation_AUCPR\"].idxmax()]\n",
    "best_model_name = best_run[\"tags.mlflow.runName\"]\n",
    "best_model_uri = f\"runs:/{best_run['run_id']}/{best_model_name}\"\n",
    "\n",
    "# Register the best model\n",
    "mlflow.register_model(best_model_uri, \"Spam_Ham_Best_Model\")"
   ]
  },
  {
   "cell_type": "code",
   "execution_count": null,
   "id": "8b9ed9f2-a030-4f05-abf9-aeec46604882",
   "metadata": {},
   "outputs": [],
   "source": []
  }
 ],
 "metadata": {
  "kernelspec": {
   "display_name": "Python 3 (ipykernel)",
   "language": "python",
   "name": "python3"
  },
  "language_info": {
   "codemirror_mode": {
    "name": "ipython",
    "version": 3
   },
   "file_extension": ".py",
   "mimetype": "text/x-python",
   "name": "python",
   "nbconvert_exporter": "python",
   "pygments_lexer": "ipython3",
   "version": "3.10.12"
  }
 },
 "nbformat": 4,
 "nbformat_minor": 5
}
