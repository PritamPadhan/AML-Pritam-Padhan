{
  "nbformat": 4,
  "nbformat_minor": 0,
  "metadata": {
    "colab": {
      "provenance": []
    },
    "kernelspec": {
      "name": "python3",
      "display_name": "Python 3"
    },
    "language_info": {
      "name": "python"
    }
  },
  "cells": [
    {
      "cell_type": "code",
      "execution_count": 14,
      "metadata": {
        "id": "LhCqqJs4E_Ul"
      },
      "outputs": [],
      "source": [
        "import os\n",
        "import pandas as pd\n",
        "from sklearn.model_selection import train_test_split"
      ]
    },
    {
      "cell_type": "code",
      "source": [
        "os.chdir(\"/content/drive/MyDrive/AML_Assignments/Assignment1/\")"
      ],
      "metadata": {
        "id": "NOzs_n89GjIS"
      },
      "execution_count": 15,
      "outputs": []
    },
    {
      "cell_type": "code",
      "source": [
        "ls"
      ],
      "metadata": {
        "colab": {
          "base_uri": "https://localhost:8080/"
        },
        "id": "PaGMEH05G1T9",
        "outputId": "b36da1a0-36f4-4c93-8a88-6fc44474d77b"
      },
      "execution_count": 16,
      "outputs": [
        {
          "output_type": "stream",
          "name": "stdout",
          "text": [
            "sms_spam_collection.csv\n"
          ]
        }
      ]
    },
    {
      "cell_type": "code",
      "source": [
        "df = pd.read_csv(\"sms_spam_collection.csv\")"
      ],
      "metadata": {
        "id": "CZ3ASlpcGvH5"
      },
      "execution_count": 17,
      "outputs": []
    },
    {
      "cell_type": "code",
      "source": [
        "df.columns = [\"Label\", \"Message\"]\n",
        "\n",
        "# Convert labels to lowercase for consistency\n",
        "df[\"Label\"] = df[\"Label\"].str.lower()"
      ],
      "metadata": {
        "id": "i5cZK9HaHZW1"
      },
      "execution_count": 18,
      "outputs": []
    },
    {
      "cell_type": "code",
      "source": [
        "# Step 3: Split the dataset into Train, Validation, and Test\n",
        "train_df, temp_df = train_test_split(df, test_size=0.2, random_state=42, stratify=df[\"Label\"])\n",
        "validation_df, test_df = train_test_split(temp_df, test_size=0.5, random_state=42, stratify=temp_df[\"Label\"])\n",
        "\n",
        "# Step 4: Save the splits to CSV files\n",
        "train_df.to_csv(\"train.csv\", index=False)\n",
        "validation_df.to_csv(\"validation.csv\", index=False)\n",
        "test_df.to_csv(\"test.csv\", index=False)\n",
        "\n",
        "print(\"Data split and saved successfully!\")"
      ],
      "metadata": {
        "colab": {
          "base_uri": "https://localhost:8080/"
        },
        "id": "ilgmPmF5H984",
        "outputId": "0a308d46-6d9f-43d1-bf98-840baed80178"
      },
      "execution_count": 19,
      "outputs": [
        {
          "output_type": "stream",
          "name": "stdout",
          "text": [
            "Data split and saved successfully!\n"
          ]
        }
      ]
    },
    {
      "cell_type": "code",
      "source": [],
      "metadata": {
        "id": "d3jlE4ALIHKy"
      },
      "execution_count": null,
      "outputs": []
    }
  ]
}